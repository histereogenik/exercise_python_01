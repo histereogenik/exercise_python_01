{
  "nbformat": 4,
  "nbformat_minor": 0,
  "metadata": {
    "colab": {
      "provenance": []
    },
    "kernelspec": {
      "name": "python3",
      "display_name": "Python 3"
    }
  },
  "cells": [
    {
      "cell_type": "markdown",
      "metadata": {
        "id": "KJqp9AANOCtf"
      },
      "source": [
        "<img src=\"https://raw.githubusercontent.com/andre-marcos-perez/ebac-course-utils/main/media/logo/newebac_logo_black_half.png\" alt=\"ebac-logo\">\n",
        "\n",
        "---\n",
        "\n",
        "# **Módulo** | Python: Estruturas de Dados\n",
        "Caderno de **Exercícios**<br>\n",
        "Professor [André Perez](https://www.linkedin.com/in/andremarcosperez/)\n",
        "\n",
        "---"
      ]
    },
    {
      "cell_type": "markdown",
      "metadata": {
        "id": "d9jDtUbDOE1-"
      },
      "source": [
        "# **Tópicos**\n",
        "\n",
        "<ol type=\"1\">\n",
        "  <li>Listas;</li>\n",
        "  <li>Conjuntos;</li>\n",
        "  <li>Dicionários.</li>\n",
        "</ol>"
      ]
    },
    {
      "cell_type": "markdown",
      "metadata": {
        "id": "SmoHgt-lwkpD"
      },
      "source": [
        "---"
      ]
    },
    {
      "cell_type": "markdown",
      "metadata": {
        "id": "GABI6OW8OfQ2"
      },
      "source": [
        "# **Exercícios**"
      ]
    },
    {
      "cell_type": "markdown",
      "metadata": {
        "id": "muD1vxozykSC"
      },
      "source": [
        "## 1\\. Listas"
      ]
    },
    {
      "cell_type": "markdown",
      "metadata": {
        "id": "ahrFfCuBxJKs"
      },
      "source": [
        "Criei uma lista chamada `filmes` com o nome dos 10 primeiros filmes mais bem avaliados no site no [IMDB](https://www.imdb.com/chart/top/). Imprima o resultado."
      ]
    },
    {
      "cell_type": "code",
      "metadata": {
        "id": "OgL6Hv3bzOHI",
        "colab": {
          "base_uri": "https://localhost:8080/"
        },
        "outputId": "a6ffbf8e-6f79-4375-b257-5231ba720966"
      },
      "source": [
        "filmes = ['Um Sonho de Liberdade','Poderoso Chefão','Batman', 'Chefão 2', '12 homens', 'A lista', 'LOTR: RK', 'Pulp Fiction', 'LOTR: TFR', 'Conflito']\n",
        "\n",
        "print(filmes)\n",
        "print(type(filmes))"
      ],
      "execution_count": 1,
      "outputs": [
        {
          "output_type": "stream",
          "name": "stdout",
          "text": [
            "['Um Sonho de Liberdade', 'Poderoso Chefão', 'Batman', 'Chefão 2', '12 homens', 'A lista', 'LOTR: RK', 'Pulp Fiction', 'LOTR: TFR', 'Conflito']\n",
            "<class 'list'>\n"
          ]
        }
      ]
    },
    {
      "cell_type": "markdown",
      "metadata": {
        "id": "KI9zQRT2xa7m"
      },
      "source": [
        "Simule a movimentação do *ranking*. Utilize os métodos `insert` e `pop` para trocar a posição do primeiro e do segundo filme da lista. Imprima o resultado.\n",
        "\n"
      ]
    },
    {
      "cell_type": "code",
      "metadata": {
        "id": "zX3mA3_GzrXH",
        "colab": {
          "base_uri": "https://localhost:8080/"
        },
        "outputId": "3617376d-af3f-4060-86ff-1485aacae2c1"
      },
      "source": [
        "poderoso_chefao = filmes.pop(1)\n",
        "filmes.insert(0, poderoso_chefao)\n",
        "\n",
        "print(filmes)"
      ],
      "execution_count": 2,
      "outputs": [
        {
          "output_type": "stream",
          "name": "stdout",
          "text": [
            "['Poderoso Chefão', 'Um Sonho de Liberdade', 'Batman', 'Chefão 2', '12 homens', 'A lista', 'LOTR: RK', 'Pulp Fiction', 'LOTR: TFR', 'Conflito']\n"
          ]
        }
      ]
    },
    {
      "cell_type": "markdown",
      "metadata": {
        "id": "zMN1Q3jdwoJm"
      },
      "source": [
        "---"
      ]
    },
    {
      "cell_type": "markdown",
      "metadata": {
        "id": "lxa5L6uF0ZJE"
      },
      "source": [
        "## 2\\. Conjuntos"
      ]
    },
    {
      "cell_type": "markdown",
      "metadata": {
        "id": "9JahS2Kj0d5u"
      },
      "source": [
        "Aconteceu um erro no seu *ranking*. Simule a duplicação dos três últimos filmes da lista. Imprima o resultado."
      ]
    },
    {
      "cell_type": "code",
      "metadata": {
        "id": "BnjnLBNC6PGe",
        "colab": {
          "base_uri": "https://localhost:8080/"
        },
        "outputId": "33d9369b-e4a8-482e-d684-cb62cafdd1b0"
      },
      "source": [
        "bot_3 = filmes[-3:]\n",
        "filmes += bot_3\n",
        "\n",
        "print(bot_3)\n",
        "print(filmes)"
      ],
      "execution_count": 3,
      "outputs": [
        {
          "output_type": "stream",
          "name": "stdout",
          "text": [
            "['Pulp Fiction', 'LOTR: TFR', 'Conflito']\n",
            "['Poderoso Chefão', 'Um Sonho de Liberdade', 'Batman', 'Chefão 2', '12 homens', 'A lista', 'LOTR: RK', 'Pulp Fiction', 'LOTR: TFR', 'Conflito', 'Pulp Fiction', 'LOTR: TFR', 'Conflito']\n"
          ]
        }
      ]
    },
    {
      "cell_type": "markdown",
      "metadata": {
        "id": "suxTfCJB6ZiX"
      },
      "source": [
        "Utiliza a conversão `set` e `list` para remover os valores duplicados. Imprima o resultado."
      ]
    },
    {
      "cell_type": "code",
      "metadata": {
        "id": "ZvUGN-0n6joM",
        "colab": {
          "base_uri": "https://localhost:8080/"
        },
        "outputId": "5f0f634a-27ec-4a92-f4e7-2ef54058a9ab"
      },
      "source": [
        "filmes = list(set(filmes))\n",
        "\n",
        "print(filmes)"
      ],
      "execution_count": 4,
      "outputs": [
        {
          "output_type": "stream",
          "name": "stdout",
          "text": [
            "['Conflito', 'Poderoso Chefão', 'LOTR: TFR', 'Batman', 'Chefão 2', 'LOTR: RK', 'Um Sonho de Liberdade', '12 homens', 'Pulp Fiction', 'A lista']\n"
          ]
        }
      ]
    },
    {
      "cell_type": "markdown",
      "metadata": {
        "id": "ShkK35eQ6pAM"
      },
      "source": [
        "---"
      ]
    },
    {
      "cell_type": "markdown",
      "metadata": {
        "id": "EL_FzmxL6rTv"
      },
      "source": [
        "## 3\\. Dicionários"
      ]
    },
    {
      "cell_type": "markdown",
      "metadata": {
        "id": "i8l0gFqRCpfT"
      },
      "source": [
        "Repita os exercícios da parte 1 (listas). Os elementos da lista `filmes` devem ser dicionários no seguinte formato: `{'nome': <nome-do-filme>, 'ano': <ano do filme>}, 'sinopse': <sinopse do filme>}`."
      ]
    },
    {
      "cell_type": "code",
      "metadata": {
        "id": "tu6MSFwGDnHv",
        "colab": {
          "base_uri": "https://localhost:8080/"
        },
        "outputId": "217be4b3-6991-49b0-ac84-0a17be39353b"
      },
      "source": [
        "filmes = []\n",
        "\n",
        "um_sonho_de_liberdade = {'nome': 'Um Sonho de Liberdade', 'ano': 1999, 'sinopse': 'lorem'}\n",
        "poderoso_chefao = {'nome': 'Poderoso Chefão', 'ano': 1999, 'sinopse': 'lorem'}\n",
        "batman = {'nome': 'Batman', 'ano': 1999, 'sinopse': 'lorem'}\n",
        "chefao_2 = {'nome': 'Chefão 2', 'ano': 1999, 'sinopse': 'lorem'}\n",
        "doze_homens = {'nome': '12 homens', 'ano': 1999, 'sinopse': 'lorem'}\n",
        "a_lista = {'nome': 'A lista', 'ano': 1999, 'sinopse': 'lorem'}\n",
        "lotr_rk = {'nome': 'LOTR: RK', 'ano': 1999, 'sinopse': 'lorem'}\n",
        "pulp_fiction = {'nome': 'Pulp Fiction', 'ano': 1999, 'sinopse': 'lorem'}\n",
        "lotr_tfr = {'nome': 'LOTR: TFR', 'ano': 1999, 'sinopse': 'lorem'}\n",
        "conflito = {'nome': 'Conflito', 'ano': 1999, 'sinopse': 'lorem'}\n",
        "\n",
        "filmes.append(um_sonho_de_liberdade)\n",
        "filmes.append(poderoso_chefao)\n",
        "filmes.append(batman)\n",
        "filmes.append(chefao_2)\n",
        "filmes.append(doze_homens)\n",
        "filmes.append(a_lista)\n",
        "filmes.append(lotr_rk)\n",
        "filmes.append(pulp_fiction)\n",
        "filmes.append(lotr_tfr)\n",
        "filmes.append(conflito)\n",
        "\n",
        "\n",
        "print(filmes)\n",
        "print(len(filmes))\n",
        "\n",
        "poderoso_chefao = filmes.pop(1)\n",
        "filmes.insert(0, poderoso_chefao)\n",
        "\n",
        "print(filmes)"
      ],
      "execution_count": 5,
      "outputs": [
        {
          "output_type": "stream",
          "name": "stdout",
          "text": [
            "[{'nome': 'Um Sonho de Liberdade', 'ano': 1999, 'sinopse': 'lorem'}, {'nome': 'Poderoso Chefão', 'ano': 1999, 'sinopse': 'lorem'}, {'nome': 'Batman', 'ano': 1999, 'sinopse': 'lorem'}, {'nome': 'Chefão 2', 'ano': 1999, 'sinopse': 'lorem'}, {'nome': '12 homens', 'ano': 1999, 'sinopse': 'lorem'}, {'nome': 'A lista', 'ano': 1999, 'sinopse': 'lorem'}, {'nome': 'LOTR: RK', 'ano': 1999, 'sinopse': 'lorem'}, {'nome': 'Pulp Fiction', 'ano': 1999, 'sinopse': 'lorem'}, {'nome': 'LOTR: TFR', 'ano': 1999, 'sinopse': 'lorem'}, {'nome': 'Conflito', 'ano': 1999, 'sinopse': 'lorem'}]\n",
            "10\n",
            "[{'nome': 'Poderoso Chefão', 'ano': 1999, 'sinopse': 'lorem'}, {'nome': 'Um Sonho de Liberdade', 'ano': 1999, 'sinopse': 'lorem'}, {'nome': 'Batman', 'ano': 1999, 'sinopse': 'lorem'}, {'nome': 'Chefão 2', 'ano': 1999, 'sinopse': 'lorem'}, {'nome': '12 homens', 'ano': 1999, 'sinopse': 'lorem'}, {'nome': 'A lista', 'ano': 1999, 'sinopse': 'lorem'}, {'nome': 'LOTR: RK', 'ano': 1999, 'sinopse': 'lorem'}, {'nome': 'Pulp Fiction', 'ano': 1999, 'sinopse': 'lorem'}, {'nome': 'LOTR: TFR', 'ano': 1999, 'sinopse': 'lorem'}, {'nome': 'Conflito', 'ano': 1999, 'sinopse': 'lorem'}]\n"
          ]
        }
      ]
    },
    {
      "cell_type": "markdown",
      "source": [],
      "metadata": {
        "id": "5BzMVu1D1VLZ"
      }
    }
  ]
}